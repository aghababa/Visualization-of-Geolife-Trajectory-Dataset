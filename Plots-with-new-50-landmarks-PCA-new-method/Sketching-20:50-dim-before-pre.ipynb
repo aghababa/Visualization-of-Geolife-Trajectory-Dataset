{
 "cells": [
  {
   "cell_type": "code",
   "execution_count": 1,
   "metadata": {},
   "outputs": [],
   "source": [
    "import glob\n",
    "import numpy as np\n",
    "import time\n",
    "import math\n",
    "import random\n",
    "from scipy import linalg as LA\n",
    "import pandas as pd\n",
    "from sklearn.decomposition import PCA\n",
    "import os\n",
    "import csv"
   ]
  },
  {
   "cell_type": "code",
   "execution_count": 3,
   "metadata": {},
   "outputs": [],
   "source": [
    "def read_file(file_name):\n",
    "    data = []\n",
    "    c = 0\n",
    "    with open(file_name, \"r\") as f:\n",
    "        for line in f:\n",
    "            c = c + 1\n",
    "            if c > 6:\n",
    "                item = line.strip().split(\",\")\n",
    "                data.append([int(file_name[45:-4])] + list(map(float, item[:2])))\n",
    "    return data"
   ]
  },
  {
   "cell_type": "code",
   "execution_count": 4,
   "metadata": {},
   "outputs": [],
   "source": [
    "J = glob.glob('Geolife Trajectories 1.3/**/', recursive=True)[2:]\n",
    "K = [J[2*i+1] for i in range(182)]\n",
    "F = [K[i][30:33] for i in range(182)]\n",
    "int1 = np.vectorize(int)\n",
    "folder_numbers = int1(F)\n",
    "I = glob.glob('Geolife Trajectories 1.3/**/*.plt', recursive=True)"
   ]
  },
  {
   "cell_type": "code",
   "execution_count": 5,
   "metadata": {},
   "outputs": [
    {
     "name": "stdout",
     "output_type": "stream",
     "text": [
      "total time = 88.26316595077515\n"
     ]
    }
   ],
   "source": [
    "# runtime about 65s\n",
    "Start_time = time.time()\n",
    "M = 182\n",
    "data_indexed = [0] * M\n",
    "data = [0] * M\n",
    "\n",
    "for i in range(M):\n",
    "    \n",
    "    data_indexed[folder_numbers[i]] = []\n",
    "    data[folder_numbers[i]] = []\n",
    "\n",
    "    for file_name in I:\n",
    "        if file_name[30:33] == F[i]:\n",
    "            a = np.array(read_file(file_name))\n",
    "            data[folder_numbers[i]].append(a)\n",
    "            data_indexed[folder_numbers[i]].append(([folder_numbers[i], int(a[0][0]), a[:,1:]]))\n",
    "    \n",
    "print('total time =', time.time() - Start_time)"
   ]
  },
  {
   "cell_type": "code",
   "execution_count": 6,
   "metadata": {},
   "outputs": [
    {
     "data": {
      "text/plain": [
       "[181, 20080115121304, array([[ 39.97535   , 116.33355   ],\n",
       "        [ 39.99108333, 116.33171667],\n",
       "        [ 39.99155   , 116.3306    ],\n",
       "        [ 39.99153333, 116.32688333],\n",
       "        [ 39.99136667, 116.31811667],\n",
       "        [ 39.99108333, 116.31095   ],\n",
       "        [ 39.9901    , 116.311     ],\n",
       "        [ 39.98936667, 116.31118333]])]"
      ]
     },
     "execution_count": 6,
     "metadata": {},
     "output_type": "execute_result"
    }
   ],
   "source": [
    "data_indexed[-1][6]"
   ]
  },
  {
   "cell_type": "code",
   "execution_count": 7,
   "metadata": {},
   "outputs": [],
   "source": [
    "data_reduced = [0] * M\n",
    "data_fol_num = set()\n",
    "trajectory_names = [0] * M\n",
    "\n",
    "for i in range(M):\n",
    "    data_reduced[i] = []\n",
    "    trajectory_names[i] = []\n",
    "    for j in range(len(data_indexed[i])):\n",
    "        if len(data_indexed[i][j][2]) > 0: # and sum(sum(abs(data_indexed[i][j][2][:-1] - data_indexed[i][j][2][1:]))) > 10e-3:\n",
    "            data_reduced[i].append(data_indexed[i][j])\n",
    "            trajectory_names[i].append((data_indexed[i][j][0], data_indexed[i][j][1]))\n",
    "            data_fol_num.add(data_indexed[i][j][0])\n",
    "\n",
    "data_fol_num = np.sort(list(data_fol_num))"
   ]
  },
  {
   "cell_type": "code",
   "execution_count": 8,
   "metadata": {},
   "outputs": [
    {
     "data": {
      "text/plain": [
       "(181, 20080115121304)"
      ]
     },
     "execution_count": 8,
     "metadata": {},
     "output_type": "execute_result"
    }
   ],
   "source": [
    "trajectory_names[-1][6]"
   ]
  },
  {
   "cell_type": "code",
   "execution_count": 10,
   "metadata": {},
   "outputs": [
    {
     "data": {
      "text/plain": [
       "(7, 175)"
      ]
     },
     "execution_count": 10,
     "metadata": {},
     "output_type": "execute_result"
    }
   ],
   "source": [
    "l = 0\n",
    "index = [] \n",
    "for i in range(182):\n",
    "    if len(data_reduced[i]) < 2:\n",
    "        l = l + 1\n",
    "    else:\n",
    "        index.append(i)\n",
    "        \n",
    "l, 182-l"
   ]
  },
  {
   "cell_type": "code",
   "execution_count": 11,
   "metadata": {},
   "outputs": [],
   "source": [
    "data_1 = [0] * (M-l)\n",
    "data_fol_num1 = [0] * (M-l)\n",
    "trajectory_names_1 = [0] * (M-l)\n",
    "\n",
    "j = 0 \n",
    "for i in range(M):\n",
    "    if len(data_reduced[i]) >= 2:\n",
    "        data_1[j] = np.array(data_reduced[i])\n",
    "        trajectory_names_1[j] = trajectory_names[i]\n",
    "        data_fol_num1[j] = data_reduced[i][0][0]\n",
    "        j = j + 1"
   ]
  },
  {
   "cell_type": "code",
   "execution_count": 12,
   "metadata": {},
   "outputs": [],
   "source": [
    "# This is doing nothing as we use 0 not 10 for example\n",
    "data_final = data_1\n",
    "\n",
    "for i in range(M-l):\n",
    "    if len(data_1[i]) > 0: #10:\n",
    "       # R1 = random.sample(range(len(data_1[i])), 200)\n",
    "       # R = np.sort(R1)\n",
    "        data_final[i] = data_1[i]#[R]\n",
    "\n",
    "data_final = np.array(data_final)"
   ]
  },
  {
   "cell_type": "code",
   "execution_count": 14,
   "metadata": {},
   "outputs": [
    {
     "name": "stdout",
     "output_type": "stream",
     "text": [
      "x-coordinate minimum is:  1.044024\n",
      "x-coordinate maximum is:  400.166666666667\n",
      "x-coordinate mean is:  39.33880381206802\n",
      "x-coordinate median is:  39.9562137187774\n",
      "x-coordinate variance is:  7.35607627483406\n",
      "x-coordinate standard deviation is:  2.712208744701274 \n",
      "\n",
      "y-coordinate minimum is:  -179.9695933\n",
      "y-coordinate maximun is:  179.9969416\n",
      "y-coordinate mean is:  115.22263199878307\n",
      "y-coordinate median is:  116.3387035363077\n",
      "y-coordinate variance is:  60.74033571549907\n",
      "y-coordinate standard deviation is:  7.7936086452617745\n"
     ]
    }
   ],
   "source": [
    "# creating box boundaries for landmark points for whole dataset\n",
    "A = []\n",
    "B = []\n",
    "U = []\n",
    "V = []\n",
    "M1 = []\n",
    "M2 = []\n",
    "\n",
    "for j in range(len(data_final)):\n",
    "    a = min([min(data_final[j][i][2][:,0]) for i in range(len(data_final[j]))])\n",
    "    b = max([max(data_final[j][i][2][:,0]) for i in range(len(data_final[j]))])\n",
    "    u = min([min(data_final[j][i][2][:,1]) for i in range(len(data_final[j]))])\n",
    "    v = max([max(data_final[j][i][2][:,1]) for i in range(len(data_final[j]))])\n",
    "    A.append(a)\n",
    "    B.append(b)\n",
    "    U.append(u)\n",
    "    V.append(v)\n",
    "    \n",
    "    m1 = np.mean([np.mean(data_final[j][i][2][:,0]) for i in range(len(data_final[j]))])\n",
    "    m2 = np.mean([np.mean(data_final[j][i][2][:,1]) for i in range(len(data_final[j]))])\n",
    "    M1.append(np.mean(m1))\n",
    "    M2.append(np.mean(m2))\n",
    "\n",
    "\n",
    "print(\"x-coordinate minimum is: \", min(A))\n",
    "print(\"x-coordinate maximum is: \", max(B)) \n",
    "print(\"x-coordinate mean is: \", np.mean(M1))\n",
    "print(\"x-coordinate median is: \", np.median(M1))\n",
    "print(\"x-coordinate variance is: \", np.var(M1))\n",
    "print(\"x-coordinate standard deviation is: \", np.std(M1), '\\n')\n",
    "\n",
    "print(\"y-coordinate minimum is: \", min(U)) \n",
    "print(\"y-coordinate maximun is: \", max(V))\n",
    "print(\"y-coordinate mean is: \", np.mean(M2))\n",
    "print(\"y-coordinate median is: \", np.median(M2))\n",
    "print(\"y-coordinate variance is: \", np.var(M2))\n",
    "print(\"y-coordinate standard deviation is: \", np.std(M2))"
   ]
  },
  {
   "cell_type": "code",
   "execution_count": 22,
   "metadata": {},
   "outputs": [],
   "source": [
    "# We have used the following Q as landmarks\n",
    "\n",
    "Q = np.array([[39.6,114.8],[40,116.34], [39, 114], [40,115], [41,116], [39.5,113.5], \n",
    "                [40.5, 115.5], [40.3, 114.4], [38.5, 113.5], [39.3,117], [39.5,115], \n",
    "                [39.4, 116], [39,114.6], [40.5, 115.5], [41.2,115], [42, 116], [41.7, 114.8], \n",
    "               [38,115], [37, 116], [37.5, 114]])\n"
   ]
  },
  {
   "cell_type": "code",
   "execution_count": 21,
   "metadata": {},
   "outputs": [],
   "source": [
    "def dist_signed_point_closed(Q, gamma, sigma): \n",
    "    \n",
    "    p1 = gamma[:-1]\n",
    "    p2 = gamma[1:]\n",
    "    L = np.sqrt(((p2-p1)*(p2-p1)).sum(axis =1)) + 10e-6\n",
    "    \n",
    "    w = (p1-p2)*(-1,1)/(L * np.ones((2,1))).T\n",
    "    w[:,[0, 1]] = w[:,[1, 0]]\n",
    "    \n",
    "# signed distance to the extended lines of segments\n",
    "    dist_signed = np.sum(w * (Q.reshape(len(Q),1,2) - p1), axis=2)\n",
    "    x = abs(dist_signed.copy())\n",
    "    R = (L**2).reshape(-1,1)\n",
    "# u = argmin points on the extended lines of segments\n",
    "    u = p1 + ((((np.sum(((Q.reshape(len(Q),1,2) - p1) * (p2 - p1)),axis=2).reshape(len(Q)\n",
    "                ,-1,1,1) * (p2-p1).reshape(len(p2-p1),1,2))).reshape(len(Q),len(p1),2))/R)\n",
    "\n",
    "    G = np.sqrt(np.sum((u-p1)*(u-p1), axis=2))\n",
    "    H = np.sqrt(np.sum((u-p2)*(u-p2), axis=2))\n",
    "# d1 = distance to start points\n",
    "    d1 = np.sqrt(np.sum((Q.reshape(len(Q),1,2)-p1)*(Q.reshape(len(Q),1,2)-p1), axis=2))\n",
    "# d2 = distance to end points\n",
    "    d2 = np.sqrt(np.sum((Q.reshape(len(Q),1,2)-p2)*(Q.reshape(len(Q),1,2)-p2), axis=2))\n",
    "    d = np.where(d1 < d2, d1, d2)\n",
    "    dist_segment = np.where(abs(G + H - L) < np.ones(len(L)) * (10e-6), dist_signed, d)\n",
    "    \n",
    "    J2 = [0] * len(Q)\n",
    "    for i in range(len(Q)): \n",
    "        J2[i] = np.where(abs(G + H - L)[i] > 10e-6)[0]\n",
    "    J2 = np.array(J2)\n",
    "\n",
    "    dist_segment_copy = dist_segment.copy()\n",
    "    dist = abs(dist_segment_copy)\n",
    "\n",
    "\n",
    "    j = np.argmin(dist, axis =1)\n",
    "\n",
    "    sign = np.ones(len(Q))\n",
    "    for k in range(len(Q)): \n",
    "        if j[k] in J2[k]:\n",
    "            if j[k] == 0 and LA.norm(Q[k] - gamma[0]) < LA.norm(Q[k] - gamma[1]):\n",
    "                \n",
    "                y = LA.norm(gamma[0]-gamma[1]) - LA.norm(gamma[-1] - gamma[-2])\n",
    "                if y < 0:\n",
    "                    x = gamma[0] + 0.1 * LA.norm(gamma[0]-gamma[1])*(gamma[-2]-gamma[-1])/LA.norm(gamma[-2]-gamma[-1])\n",
    "                    z = gamma[0] + 0.1 * LA.norm(gamma[0]-gamma[1])*(gamma[1]-gamma[0])/LA.norm(gamma[1]-gamma[0])\n",
    "                    q = 2 * gamma[0] - (x + z)/2\n",
    "                else: \n",
    "                    x = gamma[0] + 0.1 * LA.norm(gamma[-1]-gamma[-2])*(gamma[1]-gamma[0])\n",
    "                    z = gamma[0] + 0.1 * LA.norm(gamma[-1]-gamma[-2])*(gamma[-2]-gamma[-1])\n",
    "                    q = 2 * gamma[0] - (x + z)/2\n",
    "                sign[k] = np.sign((q-gamma[-1]).dot(w[-1] + w[0]))\n",
    "                \n",
    "            elif j[k] == len(gamma)-2 and LA.norm(Q[k] - gamma[-1]) < LA.norm(Q[k] - gamma[-2]):\n",
    "                s = w[-1].dot((Q[k] - gamma[-1])/ LA.norm(Q[k] - gamma[-1]) + 10e-6)\n",
    "                sign[k] = np.sign(s)\n",
    "            \n",
    "            elif LA.norm(Q[k] - gamma[j[k]]) < LA.norm(Q[k] - gamma[j[k]+1]):  \n",
    "                q = 2 * gamma[j[k]] - (gamma[j[k]-1] + gamma[j[k]+1])/2\n",
    "                sign[k] = np.sign((q-gamma[j[k]]).dot(w[j[k]-1] + w[j[k]]))\n",
    "                    \n",
    "            elif LA.norm(Q[k] - gamma[j[k]+1]) <= LA.norm(Q[k] - gamma[j[k]]):\n",
    "                q = 2 * gamma[j[k]+1] - (gamma[j[k]] + gamma[j[k]+2])/2\n",
    "                sign[k] = np.sign((q-gamma[j[k]+1]).dot(w[j[k]] + w[j[k]+1]))\n",
    "\n",
    "    E = dist_segment[np.arange(len(dist_segment)),j] \n",
    "    F = dist[np.arange(len(dist)),j] \n",
    "    dist_weighted = sign * (1/sigma) * (E.reshape(-1,1) * np.exp(-(F/sigma)**2).reshape(-1,1)).reshape(1,-1)\n",
    "\n",
    "    return dist_weighted.reshape(len(Q))"
   ]
  },
  {
   "cell_type": "code",
   "execution_count": 22,
   "metadata": {},
   "outputs": [],
   "source": [
    "def dist_signed_point_unclosed(Q, gamma, sigma): \n",
    "    \n",
    "    p1 = gamma[:-1]\n",
    "    p2 = gamma[1:]\n",
    "    L = np.sqrt(((p2-p1)*(p2-p1)).sum(axis =1)) + 10e-6\n",
    "    w = (p1-p2)*(-1,1)/(L * np.ones((2,1))).T\n",
    "    w[:,[0, 1]] = w[:,[1, 0]]\n",
    "    \n",
    "# signed distance to the extended lines of segments\n",
    "    dist_signed = np.sum(w * (Q.reshape(len(Q),1,2) - p1), axis=2)\n",
    "    x = abs(dist_signed.copy())\n",
    "    R = (L**2).reshape(-1,1)\n",
    "# u = argmin points on the extended lines of segments\n",
    "    u = p1 + ((((np.sum(((Q.reshape(len(Q),1,2) - p1) * (p2 - p1)),axis=2).reshape(len(Q)\n",
    "                ,-1,1,1) * (p2-p1).reshape(len(p2-p1),1,2))).reshape(len(Q),len(p1),2))/R)\n",
    "\n",
    "    G = np.sqrt(np.sum((u-p1)*(u-p1), axis=2))\n",
    "    H = np.sqrt(np.sum((u-p2)*(u-p2), axis=2))\n",
    "# d1 = distance to start points\n",
    "    d1 = np.sqrt(np.sum((Q.reshape(len(Q),1,2)-p1)*(Q.reshape(len(Q),1,2)-p1), axis=2))\n",
    "# d2 = distance to end points\n",
    "    d2 = np.sqrt(np.sum((Q.reshape(len(Q),1,2)-p2)*(Q.reshape(len(Q),1,2)-p2), axis=2))\n",
    "    d = np.where(d1 < d2, d1, d2)\n",
    "    dist_segment = np.where(abs(G + H - L) < np.ones(len(L)) * (10e-6), dist_signed, d)\n",
    "    \n",
    "    J2 = [0] * len(Q)\n",
    "    for i in range(len(Q)): \n",
    "        J2[i] = np.where(abs(G + H - L)[i] > 10e-6)[0]\n",
    "    J2 = np.array(J2)\n",
    "\n",
    "    dist_segment_copy = dist_segment.copy()\n",
    "    dist = abs(dist_segment_copy)\n",
    "    \n",
    "    dist_from_start_1 = np.sqrt(((Q -p1[0])*(Q -p1[0])).sum(axis =1))\n",
    "    ds_1 = ((Q -p1[0])*w[0]).sum(axis =1)\n",
    "    #dist_from_start = np.sign(ds_1) * (abs(ds_1) + np.sqrt(dist_from_start_1**2 - ds_1**2 + 10e-6))\n",
    "    dist_from_start = ds_1 * np.maximum(abs(ds_1), np.sqrt(dist_from_start_1**2 - ds_1**2 + 10e-6))/ (dist_from_start_1 + 10e-6)\n",
    "\n",
    "    \n",
    "    dist_from_end_1 = np.sqrt(((Q -p2[-1])*(Q -p2[-1])).sum(axis =1))\n",
    "    de_1 = ((Q -p2[-1])* w[-1]).sum(axis =1)\n",
    "    #dist_from_end = np.sign(de_1) * (abs(de_1) + np.sqrt(dist_from_end_1**2 - de_1**2 + 10e-6))\n",
    "    dist_from_end = de_1 * np.maximum(abs(de_1), np.sqrt(dist_from_end_1**2 - de_1**2 + 10e-6))/ (dist_from_end_1+ 10e-6)\n",
    "\n",
    "\n",
    "    dist_segment[:,0] = np.where(abs(dist[:,0]- dist_from_start_1)< 10e-8, dist_from_start, dist_segment[:,0]) \n",
    "    dist_segment[:,-1] = np.where(abs(dist[:,-1]- dist_from_end_1)< 10e-8, dist_from_end, dist_segment[:,-1]) \n",
    "\n",
    "\n",
    "    j = np.argmin(dist, axis =1)\n",
    "\n",
    "    sign = np.ones(len(Q))\n",
    "    for k in range(len(Q)): \n",
    "        if j[k] in J2[k]: \n",
    "            if j[k] == 0 and LA.norm(Q[k] - gamma[0]) < LA.norm(Q[k] - gamma[1]):\n",
    "                sign[k] = 1\n",
    "                \n",
    "            elif j[k] == len(gamma)-2 and LA.norm(Q[k] - gamma[j[k]+1]) < LA.norm(Q[k] - gamma[j[k]]):\n",
    "                sign[k] = 1\n",
    "            \n",
    "            elif LA.norm(Q[k] - gamma[j[k]]) < LA.norm(Q[k] - gamma[j[k]+1]):  \n",
    "                q = 2 * gamma[j[k]] - (gamma[j[k]-1] + gamma[j[k]+1])/2\n",
    "                sign[k] = np.sign((q-gamma[j[k]]).dot(w[j[k]-1] + w[j[k]]))\n",
    "                    \n",
    "            elif LA.norm(Q[k] - gamma[j[k]+1]) <= LA.norm(Q[k] - gamma[j[k]]) and j[k]+2 <=len(gamma)-1:\n",
    "                q = 2 * gamma[j[k]+1] - (gamma[j[k]] + gamma[j[k]+2])/2\n",
    "                sign[k] = np.sign((q-gamma[j[k]+1]).dot(w[j[k]] + w[j[k]+1]))\n",
    "\n",
    "    E = dist_segment[np.arange(len(dist_segment)),j] \n",
    "    F = dist[np.arange(len(dist)),j] \n",
    "    dist_weighted = sign * (1/sigma) * (E.reshape(-1,1) * np.exp(-(F/sigma)**2).reshape(-1,1)).reshape(1,-1)\n",
    "\n",
    "    return dist_weighted.reshape(len(Q))"
   ]
  },
  {
   "cell_type": "code",
   "execution_count": 23,
   "metadata": {},
   "outputs": [],
   "source": [
    "def dist_signed_point(Q, gamma, sigma):\n",
    "    if LA.norm(gamma[0]-gamma[-1]) > 10e-6:\n",
    "        A = dist_signed_point_unclosed(Q, gamma, sigma)\n",
    "    else: \n",
    "        A = dist_signed_point_closed(Q, gamma, sigma)\n",
    "    return A"
   ]
  },
  {
   "cell_type": "code",
   "execution_count": 91,
   "metadata": {},
   "outputs": [],
   "source": [
    "r = M-l\n",
    "sigma = 0.3\n",
    "#projected_curves = [0] * r # in R^20"
   ]
  },
  {
   "cell_type": "code",
   "execution_count": 93,
   "metadata": {},
   "outputs": [],
   "source": [
    "a = 0\n",
    "b = M-l"
   ]
  },
  {
   "cell_type": "code",
   "execution_count": 103,
   "metadata": {
    "scrolled": true
   },
   "outputs": [
    {
     "name": "stdout",
     "output_type": "stream",
     "text": [
      "0 time = 0.21025824546813965\n",
      "1 time = 0.10016894340515137\n",
      "2 time = 0.22803616523742676\n",
      "3 time = 0.42160892486572266\n",
      "4 time = 0.48256993293762207\n",
      "5 time = 0.10966014862060547\n",
      "6 time = 0.03148484230041504\n",
      "7 time = 0.08115506172180176\n",
      "8 time = 0.06966590881347656\n",
      "9 time = 0.0736241340637207\n",
      "10 time = 0.7286269664764404\n",
      "11 time = 0.13499999046325684\n",
      "12 time = 0.13640880584716797\n",
      "13 time = 0.21736598014831543\n",
      "14 time = 0.33016300201416016\n",
      "15 time = 0.07529902458190918\n",
      "16 time = 0.06971192359924316\n",
      "17 time = 0.7496922016143799\n",
      "18 time = 0.046662330627441406\n",
      "19 time = 0.055626869201660156\n",
      "20 time = 0.15541696548461914\n",
      "21 time = 0.005216121673583984\n",
      "22 time = 0.36648011207580566\n",
      "23 time = 0.10653209686279297\n",
      "24 time = 0.21529293060302734\n",
      "25 time = 0.7160632610321045\n",
      "26 time = 0.11850810050964355\n",
      "27 time = 0.013322114944458008\n",
      "28 time = 0.10760903358459473\n",
      "29 time = 0.06875395774841309\n",
      "30 time = 0.5239360332489014\n",
      "31 time = 0.0162351131439209\n",
      "32 time = 0.021596908569335938\n",
      "33 time = 0.04696083068847656\n",
      "34 time = 0.1631779670715332\n",
      "35 time = 0.21395182609558105\n",
      "36 time = 0.18079710006713867\n",
      "37 time = 0.1793220043182373\n",
      "38 time = 0.2124159336090088\n",
      "39 time = 0.27074694633483887\n",
      "40 time = 0.04896426200866699\n",
      "41 time = 0.8826038837432861\n",
      "42 time = 0.22024083137512207\n",
      "43 time = 0.08582592010498047\n",
      "44 time = 0.07611823081970215\n",
      "45 time = 0.01034092903137207\n",
      "46 time = 0.024934768676757812\n",
      "47 time = 0.0061719417572021484\n",
      "48 time = 0.008154153823852539\n",
      "49 time = 0.2489778995513916\n",
      "50 time = 0.03309917449951172\n",
      "51 time = 0.2936849594116211\n",
      "52 time = 0.0042879581451416016\n",
      "53 time = 0.005560159683227539\n",
      "54 time = 0.03739166259765625\n",
      "55 time = 0.01719975471496582\n",
      "56 time = 0.011332988739013672\n",
      "57 time = 0.02774977684020996\n",
      "58 time = 0.019260168075561523\n",
      "59 time = 0.0007810592651367188\n",
      "60 time = 0.010935783386230469\n",
      "61 time = 0.4817390441894531\n",
      "62 time = 0.014497995376586914\n",
      "63 time = 0.047963857650756836\n",
      "64 time = 0.34388303756713867\n",
      "65 time = 0.04370522499084473\n",
      "66 time = 0.2924489974975586\n",
      "67 time = 0.7108919620513916\n",
      "68 time = 0.01632094383239746\n",
      "69 time = 0.028657913208007812\n",
      "70 time = 0.1041109561920166\n",
      "71 time = 0.0015859603881835938\n",
      "72 time = 0.0748291015625\n",
      "73 time = 0.16640114784240723\n",
      "74 time = 0.036022186279296875\n",
      "75 time = 0.006651878356933594\n",
      "76 time = 0.003984212875366211\n",
      "77 time = 0.09123110771179199\n",
      "78 time = 0.017848968505859375\n",
      "79 time = 0.004345893859863281\n",
      "80 time = 0.043112754821777344\n",
      "81 time = 0.15756893157958984\n",
      "82 time = 0.03795504570007324\n",
      "83 time = 0.3447000980377197\n",
      "84 time = 0.5234079360961914\n",
      "85 time = 0.008155107498168945\n",
      "86 time = 0.0051860809326171875\n",
      "87 time = 0.04149508476257324\n",
      "88 time = 0.04849839210510254\n",
      "89 time = 0.004723787307739258\n",
      "90 time = 0.044667959213256836\n",
      "91 time = 0.1010141372680664\n",
      "92 time = 0.016089916229248047\n",
      "93 time = 0.010738134384155273\n",
      "94 time = 0.04434919357299805\n",
      "95 time = 0.2095201015472412\n",
      "96 time = 0.01762104034423828\n",
      "97 time = 0.003626108169555664\n",
      "98 time = 0.0070912837982177734\n",
      "99 time = 0.006453037261962891\n",
      "100 time = 0.03455185890197754\n",
      "101 time = 0.019934892654418945\n",
      "102 time = 0.04011392593383789\n",
      "103 time = 0.06628990173339844\n",
      "104 time = 0.006299734115600586\n",
      "105 time = 0.0027360916137695312\n",
      "106 time = 0.0014641284942626953\n",
      "107 time = 0.004813194274902344\n",
      "108 time = 0.0030531883239746094\n",
      "109 time = 0.014594078063964844\n",
      "110 time = 0.02553105354309082\n",
      "111 time = 0.14103913307189941\n",
      "112 time = 0.03997302055358887\n",
      "113 time = 0.01902008056640625\n",
      "114 time = 0.16038203239440918\n",
      "115 time = 0.004739046096801758\n",
      "116 time = 0.004626035690307617\n",
      "117 time = 0.006248950958251953\n",
      "118 time = 0.08638906478881836\n",
      "119 time = 0.008968114852905273\n",
      "120 time = 0.0055310726165771484\n",
      "121 time = 0.05212998390197754\n",
      "122 time = 0.009068012237548828\n",
      "123 time = 0.08363103866577148\n",
      "124 time = 0.09641098976135254\n",
      "125 time = 0.35314297676086426\n",
      "126 time = 0.020518064498901367\n",
      "127 time = 1.5027477741241455\n",
      "128 time = 0.014725685119628906\n",
      "129 time = 0.0347440242767334\n",
      "130 time = 0.04482889175415039\n",
      "131 time = 0.017553091049194336\n",
      "132 time = 0.007040977478027344\n",
      "133 time = 0.028512001037597656\n",
      "134 time = 0.06685900688171387\n",
      "135 time = 0.011512994766235352\n",
      "136 time = 0.012051105499267578\n",
      "137 time = 0.010151863098144531\n",
      "138 time = 0.36880993843078613\n",
      "139 time = 0.22449994087219238\n",
      "140 time = 0.17413687705993652\n",
      "141 time = 0.6096479892730713\n",
      "142 time = 0.009713888168334961\n",
      "143 time = 0.005070924758911133\n",
      "144 time = 0.049591064453125\n",
      "145 time = 0.029937028884887695\n",
      "146 time = 0.014345169067382812\n",
      "147 time = 0.009788036346435547\n",
      "148 time = 2.088430881500244\n",
      "149 time = 0.015535831451416016\n",
      "150 time = 0.045021772384643555\n",
      "151 time = 0.013602972030639648\n",
      "152 time = 0.008430004119873047\n",
      "153 time = 0.009747982025146484\n",
      "154 time = 0.03419685363769531\n",
      "155 time = 0.022311925888061523\n",
      "156 time = 0.006662845611572266\n",
      "157 time = 0.0051116943359375\n",
      "158 time = 0.9538707733154297\n",
      "159 time = 0.0029840469360351562\n",
      "160 time = 0.10396289825439453\n",
      "161 time = 0.004441022872924805\n",
      "162 time = 0.5861907005310059\n",
      "163 time = 0.19156813621520996\n",
      "164 time = 0.04961204528808594\n",
      "165 time = 0.005806922912597656\n",
      "166 time = 0.0037560462951660156\n",
      "167 time = 0.04072713851928711\n",
      "168 time = 0.0038499832153320312\n",
      "169 time = 0.030470848083496094\n",
      "170 time = 0.0023849010467529297\n",
      "171 time = 0.003364086151123047\n",
      "172 time = 0.13840317726135254\n",
      "173 time = 0.03776907920837402\n",
      "174 time = 0.008893966674804688\n",
      "total time = 23.314013242721558\n"
     ]
    }
   ],
   "source": [
    "Start_time = time.time()\n",
    "\n",
    "c = 0\n",
    "projected_curves = []\n",
    "\n",
    "for i in range(a,b):\n",
    "\n",
    "    Start_time_1 = time.time()\n",
    "    \n",
    "    for j in range(len(data_final[i])):\n",
    "    \n",
    "        B = [c, data_final[i][j][0], data_final[i][j][1]]\n",
    "        E = dist_signed_point(Q,data_final[i][j][2],sigma)\n",
    "        projected_curves.append(list(np.concatenate((B,E), axis = 0)))\n",
    "        c += 1\n",
    "    print(i,'time =', time.time() - Start_time_1)\n",
    "\n",
    "projected_curves = np.array(projected_curves)\n",
    "\n",
    "print('total time =', time.time() - Start_time)"
   ]
  },
  {
   "cell_type": "code",
   "execution_count": 89,
   "metadata": {
    "scrolled": true
   },
   "outputs": [
    {
     "name": "stdout",
     "output_type": "stream",
     "text": [
      "total time = 2.5710010528564453\n"
     ]
    }
   ],
   "source": [
    "Start_time = time.time()\n",
    "\n",
    "projected = [0] * (M-l)\n",
    "\n",
    "for i in range(11):\n",
    "\n",
    "    projected[i] = []\n",
    "    \n",
    "    for j in range(len(data_final[i])):\n",
    "        projected[i].append(dist_signed_point(Q,data_final[i][j][2],sigma))\n",
    "        \n",
    "    projected[i] = np.array(projected[i])\n",
    "        \n",
    "projected = np.array(projected)\n",
    "\n",
    "print('total time =', time.time() - Start_time)"
   ]
  },
  {
   "cell_type": "code",
   "execution_count": 112,
   "metadata": {},
   "outputs": [],
   "source": [
    "path = '1/2-dim.csv'\n",
    "np.savetxt(path,projected_curves, delimiter=',')"
   ]
  },
  {
   "cell_type": "code",
   "execution_count": 113,
   "metadata": {},
   "outputs": [],
   "source": [
    "header = [\"key_0\", \"User Name\", \"Trajectory Name\", \"x\", \"y\"]\n",
    "\n",
    "path_1 = r'1/2-dim-headed.csv'\n",
    "\n",
    "with open(path_1, \"w\", newline='') as f:\n",
    "    writer = csv.writer(f, delimiter=',')\n",
    "    writer.writerow(header) # write the header\n",
    "    \n",
    "    # write the actual content line by line\n",
    "    with open(path, 'r', newline='') as incsv:\n",
    "        reader = csv.reader(incsv)\n",
    "        writer.writerows(row for row in reader)"
   ]
  },
  {
   "cell_type": "code",
   "execution_count": null,
   "metadata": {},
   "outputs": [],
   "source": [
    "header = [\"User Name\", \"Trajectory Name\", \"x_1\", \"x_2\", \"x_3\", \"x_4\", \"x_5\", \"x_6\", \"x_7\", \"x_8\", \n",
    "         \"x_9\", \"x_10\", \"x_11\", \"x_12\", \"x_13\", \"x_14\", \"x_15\", \"x_16\", \"x_17\", \"x_18\", \n",
    "          \"x_19\", \"x_20\"]\n",
    "\n",
    "path_1 = r'1/Vis_Vecs-2+20-dim-larger-than-1-trajs-all-in-1-file/Vis_Vecs-2+20-dim-larger-than-1-trajs-all-in-1-file-headed.csv'\n",
    "\n",
    "with open(path_1, \"w\", newline='') as f:\n",
    "    writer = csv.writer(f, delimiter=',')\n",
    "    writer.writerow(header) # write the header\n",
    "    \n",
    "    # write the actual content line by line\n",
    "    with open(path, 'r', newline='') as incsv:\n",
    "        reader = csv.reader(incsv)\n",
    "        writer.writerows(row for row in reader)"
   ]
  },
  {
   "cell_type": "code",
   "execution_count": 87,
   "metadata": {},
   "outputs": [
    {
     "data": {
      "text/plain": [
       "array([ 1.81000000e+02,  2.00712080e+13, -1.43206652e-11, -3.98097972e-02,\n",
       "       -5.25783807e-30, -3.23709648e-08, -1.61583386e-05, -1.11949420e-38,\n",
       "       -1.50177284e-04, -9.26529605e-18, -3.54071551e-48,  1.81104934e-03,\n",
       "       -2.41228173e-09,  2.76368632e-02, -1.52855520e-18, -1.50177284e-04,\n",
       "       -3.88746919e-15, -8.70175395e-20, -9.09305166e-25,  2.76594044e-26,\n",
       "        3.59716717e-40,  8.05560290e-55])"
      ]
     },
     "execution_count": 87,
     "metadata": {},
     "output_type": "execute_result"
    }
   ],
   "source": [
    "projected_curves[-1]"
   ]
  },
  {
   "cell_type": "code",
   "execution_count": 193,
   "metadata": {},
   "outputs": [],
   "source": [
    "newpath = r'Vis_Vectors-20-dimensional-larger-than-1-trajectories-one-by-one/0' \n",
    "if not os.path.exists(newpath):\n",
    "    os.makedirs(newpath)"
   ]
  },
  {
   "cell_type": "code",
   "execution_count": 240,
   "metadata": {},
   "outputs": [],
   "source": [
    "for i in range(a,b):\n",
    "    \n",
    "    strr = r'Vis_Vectors-20-dimensional-larger-than-1-trajectories-one-by-one/'\n",
    "    newpath = strr + str(data_fol_num1[i])\n",
    "    newpath = newpath + '/'\n",
    "    \n",
    "    if not os.path.exists(newpath):\n",
    "        os.makedirs(newpath)\n",
    "    \n",
    "    for j in range(len(projected_curves[i])):\n",
    "\n",
    "        np.savetxt(newpath+str(trajectory_names_1[i][j][1])+'.csv', projected_curves[i][j][2], \n",
    "                   delimiter=',')\n",
    "        "
   ]
  },
  {
   "cell_type": "code",
   "execution_count": 241,
   "metadata": {},
   "outputs": [],
   "source": [
    "newpath = r'Vis_Vectors-20-dimensional-larger-than-1-trajectories-one-by-one-all/'\n",
    "\n",
    "for i in range(a,b):    \n",
    "    for j in range(len(projected_curves[i])):\n",
    "        np.savetxt(newpath+str(trajectory_names_1[i][j])+'.csv', \n",
    "                                   projected_curves[i][j][2], delimiter=',')\n"
   ]
  },
  {
   "cell_type": "markdown",
   "metadata": {},
   "source": [
    "# Dimensionality Reduction with PCA"
   ]
  },
  {
   "cell_type": "code",
   "execution_count": 88,
   "metadata": {},
   "outputs": [],
   "source": [
    "X = projected_curves[:,2:]\n",
    "pca = PCA(n_components=2)\n",
    "pca.fit(X)\n",
    "X_Reduced = pca.transform(X)\n",
    "X_concatenated = np.concatenate((projected_curves[:,:2], X_Reduced),axis=1)\n",
    "\n",
    "path = r'1/Vis_Vectors-2+20-to-2+2-dim-larger-than-1-trajs-all-in-1-file/Vis_Vectors-2+20-to-2+2-dim-larger-than-1-trajs-all-in-1-file.csv'\n",
    "np.savetxt(path, X_concatenated, delimiter=',')\n"
   ]
  },
  {
   "cell_type": "code",
   "execution_count": 100,
   "metadata": {},
   "outputs": [],
   "source": [
    "header = [\"User Name\", \"Trajectory Name\", \"x\", \"y\"]\n",
    "\n",
    "path_2 = r'1/Vis_Vectors-2+20-to-2+2-dim-larger-than-1-trajs-all-in-1-file/Vis_Vectors-2+20-to-2+2-dim-larger-than-1-trajs-all-in-1-file-headed.csv'\n",
    "path = r'1/Vis_Vectors-2+20-to-2+2-dim-larger-than-1-trajs-all-in-1-file/Vis_Vectors-2+20-to-2+2-dim-larger-than-1-trajs-all-in-1-file.csv'\n",
    "\n",
    "with open(path_2, \"w\", newline='') as f:\n",
    "    writer = csv.writer(f, delimiter=',')\n",
    "    writer.writerow(header) # write the header\n",
    "    \n",
    "    # write the actual content line by line\n",
    "    with open(path, 'r', newline='') as incsv:\n",
    "        reader = csv.reader(incsv)\n",
    "        writer.writerows(row for row in reader)"
   ]
  },
  {
   "cell_type": "markdown",
   "metadata": {},
   "source": [
    "## For Clustering"
   ]
  },
  {
   "cell_type": "code",
   "execution_count": 264,
   "metadata": {},
   "outputs": [
    {
     "name": "stderr",
     "output_type": "stream",
     "text": [
      "/Users/hasan/opt/anaconda3/lib/python3.7/site-packages/sklearn/decomposition/pca.py:447: RuntimeWarning: invalid value encountered in true_divide\n",
      "  explained_variance_ratio_ = explained_variance_ / total_var\n",
      "/Users/hasan/opt/anaconda3/lib/python3.7/site-packages/sklearn/decomposition/pca.py:447: RuntimeWarning: invalid value encountered in true_divide\n",
      "  explained_variance_ratio_ = explained_variance_ / total_var\n"
     ]
    }
   ],
   "source": [
    "# for clustering\n",
    "\n",
    "path1 = r'Vis_Vectors-20-to-2-PCA-one-by-one-all/'\n",
    "\n",
    "for i in range(M-l):\n",
    "    X = list(projected_curves[i][:,2])\n",
    "    pca = PCA(n_components=2)\n",
    "    pca.fit(X)\n",
    "    X_Reduced = pca.transform(X)\n",
    "    \n",
    "    strr = r'Vis_Vectors-20-to-2-PCA-one-by-one/'\n",
    "    newpath = strr + str(data_fol_num1[i])\n",
    "    newpath = newpath + '/'\n",
    "    \n",
    "    if not os.path.exists(newpath):\n",
    "        os.makedirs(newpath)\n",
    "    \n",
    "    for j in range(len(X_Reduced)):\n",
    "\n",
    "        np.savetxt(newpath+str(trajectory_names_1[i][j][1])+'.csv', X_Reduced[j], delimiter=',')\n",
    "    \n",
    "        np.savetxt(path1+str(trajectory_names_1[i][j])+'.csv', X_Reduced[j], delimiter=',')\n",
    "    "
   ]
  },
  {
   "cell_type": "code",
   "execution_count": 42,
   "metadata": {},
   "outputs": [],
   "source": [
    "for i in range(182-l):\n",
    "    X = projected_curves[i]\n",
    "    pca = PCA(n_components=5)\n",
    "    pca.fit(X)\n",
    "    X_Reduced = pca.transform(X)\n",
    "    np.savetxt('20-to-2-PCA-128/'+str(data_fol_num1[i])+'.csv', X_Reduced, delimiter=',')\n"
   ]
  },
  {
   "cell_type": "code",
   "execution_count": 119,
   "metadata": {},
   "outputs": [],
   "source": [
    "import json\n",
    "\n",
    "with open('/Users/hasan/Desktop/1.json') as f:\n",
    "    data = json.load(f)\n",
    "#print(data)"
   ]
  },
  {
   "cell_type": "code",
   "execution_count": null,
   "metadata": {},
   "outputs": [],
   "source": [
    "def make_json(csvFilePath, jsonFilePath): \n",
    "      \n",
    "    # create a dictionary \n",
    "    data = {} \n",
    "      \n",
    "    # Open a csv reader called DictReader \n",
    "    with open(csvFilePath, encoding='utf-8') as csvf: \n",
    "        csvReader = csv.DictReader(csvf) \n",
    "          \n",
    "        # Convert each row into a dictionary  \n",
    "        # and add it to data \n",
    "        for rows in csvReader: \n",
    "              \n",
    "            # Assuming a column named 'No' to \n",
    "            # be the primary key \n",
    "            key = rows['No'] \n",
    "            data[key] = rows \n",
    "  \n",
    "    # Open a json writer, and use the json.dumps()  \n",
    "    # function to dump data \n",
    "    with open(jsonFilePath, 'w', encoding='utf-8') as jsonf: \n",
    "        jsonf.write(json.dumps(data, indent=4)) \n",
    "          \n",
    "# Driver Code \n",
    " \n",
    "csvFilePath = r'/Users/hasan/Desktop/1.csv'\n",
    "jsonFilePath = r'/Users/hasan/Desktop/2.json'\n",
    "  \n",
    "# Call the make_json function \n",
    "make_json(csvFilePath, jsonFilePath)"
   ]
  },
  {
   "cell_type": "code",
   "execution_count": null,
   "metadata": {},
   "outputs": [],
   "source": []
  }
 ],
 "metadata": {
  "kernelspec": {
   "display_name": "Python 3",
   "language": "python",
   "name": "python3"
  },
  "language_info": {
   "codemirror_mode": {
    "name": "ipython",
    "version": 3
   },
   "file_extension": ".py",
   "mimetype": "text/x-python",
   "name": "python",
   "nbconvert_exporter": "python",
   "pygments_lexer": "ipython3",
   "version": "3.7.4"
  }
 },
 "nbformat": 4,
 "nbformat_minor": 2
}
