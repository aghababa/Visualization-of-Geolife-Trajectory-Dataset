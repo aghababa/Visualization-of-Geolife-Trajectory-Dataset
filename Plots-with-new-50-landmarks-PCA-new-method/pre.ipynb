{
 "cells": [
  {
   "cell_type": "code",
   "execution_count": 16,
   "metadata": {},
   "outputs": [],
   "source": [
    "import pandas as pd\n",
    "import numpy as np\n",
    "import math\n",
    "import random\n",
    "from scipy import linalg as LA\n",
    "import time\n",
    "import glob\n",
    "import csv\n",
    "from sklearn.cluster import KMeans"
   ]
  },
  {
   "cell_type": "code",
   "execution_count": 17,
   "metadata": {},
   "outputs": [],
   "source": [
    "float1 = np.vectorize(float)"
   ]
  },
  {
   "cell_type": "code",
   "execution_count": 18,
   "metadata": {},
   "outputs": [],
   "source": [
    "data = []\n",
    "path = r'1/Vis_Vecs-2+20-dim-larger-than-1-trajs-all-in-1-file/Vis_Vecs-2+20-dim-larger-than-1-trajs-all-in-1-file.csv'\n",
    "\n",
    "c = 0\n",
    "with open(path, 'r') as f:\n",
    "    reader = csv.reader(f)\n",
    "    for row in reader:\n",
    "        if c > 0:\n",
    "            x = float1(row)\n",
    "            data.append(x)\n",
    "        c = c + 1\n",
    "data = np.array(data)"
   ]
  },
  {
   "cell_type": "code",
   "execution_count": 19,
   "metadata": {},
   "outputs": [
    {
     "data": {
      "text/plain": [
       "array([ 0.00000000e+00,  2.00905100e+13,  1.06995156e-10, -2.46729935e-02,\n",
       "        1.41770412e-30, -9.87887394e-07, -6.67353248e-06,  3.15722985e-39,\n",
       "        4.83274026e-05,  5.22795003e-18,  6.27493598e-49, -1.01813807e-04,\n",
       "        1.19762000e-09,  2.54298009e-01,  5.16492921e-19,  4.83274026e-05,\n",
       "        7.60952625e-16, -7.37347862e-20,  9.74703333e-26,  1.59936875e-27,\n",
       "        1.59848282e-43,  7.85679105e-56])"
      ]
     },
     "execution_count": 19,
     "metadata": {},
     "output_type": "execute_result"
    }
   ],
   "source": [
    "data[0]"
   ]
  },
  {
   "cell_type": "code",
   "execution_count": 20,
   "metadata": {},
   "outputs": [
    {
     "data": {
      "text/plain": [
       "18662"
      ]
     },
     "execution_count": 20,
     "metadata": {},
     "output_type": "execute_result"
    }
   ],
   "source": [
    "len(data)"
   ]
  },
  {
   "cell_type": "code",
   "execution_count": 21,
   "metadata": {},
   "outputs": [],
   "source": [
    "A = [0] * len(data)\n",
    "\n",
    "for i in range(len(data)):\n",
    "    a = data[i]\n",
    "    A[i] = [0,0,0]\n",
    "    A[i][0] = a[0]\n",
    "    A[i][1] = a[1]\n",
    "    A[i][2] = list(a[2:])"
   ]
  },
  {
   "cell_type": "code",
   "execution_count": 22,
   "metadata": {},
   "outputs": [
    {
     "data": {
      "text/plain": [
       "[0.0,\n",
       " 20090510020206.0,\n",
       " [1.0699515561901816e-10,\n",
       "  -0.024672993542290397,\n",
       "  1.4177041241166789e-30,\n",
       "  -9.878873939066679e-07,\n",
       "  -6.673532481272108e-06,\n",
       "  3.157229854409298e-39,\n",
       "  4.832740256086743e-05,\n",
       "  5.227950025070982e-18,\n",
       "  6.274935978644949e-49,\n",
       "  -0.00010181380740343935,\n",
       "  1.197620004458602e-09,\n",
       "  0.2542980094978204,\n",
       "  5.164929211184818e-19,\n",
       "  4.832740256086743e-05,\n",
       "  7.609526252855712e-16,\n",
       "  -7.373478616927378e-20,\n",
       "  9.74703333252309e-26,\n",
       "  1.5993687516647397e-27,\n",
       "  1.5984828235531284e-43,\n",
       "  7.856791053434846e-56]]"
      ]
     },
     "execution_count": 22,
     "metadata": {},
     "output_type": "execute_result"
    }
   ],
   "source": [
    "A[0]"
   ]
  },
  {
   "cell_type": "code",
   "execution_count": 23,
   "metadata": {},
   "outputs": [],
   "source": [
    "# Checking\n",
    "for i in range(len(data)):\n",
    "    for j in range(20):\n",
    "        if data[i][j+2] != A[i][2][j]:\n",
    "            print(i)"
   ]
  },
  {
   "cell_type": "code",
   "execution_count": 24,
   "metadata": {},
   "outputs": [],
   "source": [
    "head = ['User Name', 'Trajectory', 'Twenty_dim_representation']  \n",
    "     \n",
    "with open('/Users/hasan/Desktop/20_dim_representation.csv', 'w') as f: \n",
    "      \n",
    "    # using csv.writer method from CSV package \n",
    "    write = csv.writer(f) \n",
    "      \n",
    "    write.writerow(head) \n",
    "    write.writerows(A) "
   ]
  },
  {
   "cell_type": "code",
   "execution_count": null,
   "metadata": {},
   "outputs": [],
   "source": []
  }
 ],
 "metadata": {
  "kernelspec": {
   "display_name": "Python 3",
   "language": "python",
   "name": "python3"
  },
  "language_info": {
   "codemirror_mode": {
    "name": "ipython",
    "version": 3
   },
   "file_extension": ".py",
   "mimetype": "text/x-python",
   "name": "python",
   "nbconvert_exporter": "python",
   "pygments_lexer": "ipython3",
   "version": "3.7.4"
  }
 },
 "nbformat": 4,
 "nbformat_minor": 2
}
