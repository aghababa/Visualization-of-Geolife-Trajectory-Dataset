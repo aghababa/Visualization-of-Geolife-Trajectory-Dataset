{
 "cells": [
  {
   "cell_type": "code",
   "execution_count": 5,
   "metadata": {},
   "outputs": [],
   "source": [
    "import pandas as pd\n",
    "import numpy as np\n",
    "import math\n",
    "import random\n",
    "from scipy import linalg as LA\n",
    "import time\n",
    "import glob\n",
    "import csv\n",
    "from sklearn.cluster import KMeans"
   ]
  },
  {
   "cell_type": "code",
   "execution_count": 6,
   "metadata": {},
   "outputs": [],
   "source": [
    "float1 = np.vectorize(float)"
   ]
  },
  {
   "cell_type": "code",
   "execution_count": 49,
   "metadata": {},
   "outputs": [],
   "source": [
    "Data = []\n",
    "path = r'3/2+20-dim-all-in-1-file-Nov-27.csv'\n",
    "\n",
    "c = 0\n",
    "with open(path, 'r') as f:\n",
    "    reader = csv.reader(f)\n",
    "    for row in reader:\n",
    "        if c > 0:\n",
    "            x = float1(row)\n",
    "            Data.append(x)\n",
    "        c = c + 1\n",
    "Data = np.array(Data)"
   ]
  },
  {
   "cell_type": "code",
   "execution_count": 50,
   "metadata": {},
   "outputs": [],
   "source": [
    "data = Data[:,2:]"
   ]
  },
  {
   "cell_type": "markdown",
   "metadata": {},
   "source": [
    "# K-Means Clustering"
   ]
  },
  {
   "cell_type": "code",
   "execution_count": 52,
   "metadata": {},
   "outputs": [],
   "source": [
    "kmeans = KMeans(n_clusters=100, random_state=0).fit(data)\n",
    "labels = kmeans.labels_ \n",
    "centers = kmeans.cluster_centers_"
   ]
  },
  {
   "cell_type": "code",
   "execution_count": 53,
   "metadata": {},
   "outputs": [],
   "source": [
    "approx_cluster_centers_with_user_id = [0] * 100\n",
    "\n",
    "for j in range(100):\n",
    "    l = np.argmin(np.sum((data - centers[j])**2,1))\n",
    "    approx_cluster_centers_with_user_id[j] = Data[l]\n",
    "approx_cluster_centers_with_user_id = np.array(approx_cluster_centers_with_user_id)"
   ]
  },
  {
   "cell_type": "code",
   "execution_count": 55,
   "metadata": {},
   "outputs": [],
   "source": [
    "A = [0] *100\n",
    "\n",
    "for i in range(100):\n",
    "    a = approx_cluster_centers_with_user_id[i]\n",
    "    A[i] = [0,0,0]\n",
    "    A[i][0] = a[0]\n",
    "    A[i][1] = a[1]\n",
    "    A[i][2] = list(a[2:])"
   ]
  },
  {
   "cell_type": "code",
   "execution_count": 58,
   "metadata": {},
   "outputs": [],
   "source": [
    "# Checking\n",
    "for i in range(100):\n",
    "    for j in range(20):\n",
    "        if approx_cluster_centers_with_user_id[i][j+2] != A[i][2][j]:\n",
    "            print(i)"
   ]
  },
  {
   "cell_type": "code",
   "execution_count": 59,
   "metadata": {},
   "outputs": [],
   "source": [
    "head = ['User Name', 'Trajectory', 'Twenty_dim_representation']  \n",
    "     \n",
    "with open('/Users/hasan/Desktop/centers-100-all-in-one.csv', 'w') as f: \n",
    "      \n",
    "    # using csv.writer method from CSV package \n",
    "    write = csv.writer(f) \n",
    "      \n",
    "    write.writerow(head) \n",
    "    write.writerows(A) "
   ]
  },
  {
   "cell_type": "code",
   "execution_count": 60,
   "metadata": {},
   "outputs": [],
   "source": [
    "head = ['User_Name', 'Trajectory',  'x_1', 'x_2', 'x_3', 'x_4', 'x_5', 'x_6', 'x_7', 'x_8', \n",
    "       'x_9', 'x_10', 'x_11', 'x_12', 'x_13', 'x_14', 'x_15', 'x_16', 'x_17', 'x_18',\n",
    "       'x_19', 'x_20'] \n",
    "     \n",
    "with open('/Users/hasan/Desktop/centers.csv', 'w') as f: \n",
    "      \n",
    "    # using csv.writer method from CSV package \n",
    "    write = csv.writer(f) \n",
    "      \n",
    "    write.writerow(head) \n",
    "    write.writerows(approx_cluster_centers_with_user_id) "
   ]
  },
  {
   "cell_type": "code",
   "execution_count": null,
   "metadata": {},
   "outputs": [],
   "source": []
  }
 ],
 "metadata": {
  "kernelspec": {
   "display_name": "Python 3",
   "language": "python",
   "name": "python3"
  },
  "language_info": {
   "codemirror_mode": {
    "name": "ipython",
    "version": 3
   },
   "file_extension": ".py",
   "mimetype": "text/x-python",
   "name": "python",
   "nbconvert_exporter": "python",
   "pygments_lexer": "ipython3",
   "version": "3.7.4"
  }
 },
 "nbformat": 4,
 "nbformat_minor": 2
}
